{
 "cells": [
  {
   "cell_type": "code",
   "execution_count": 3,
   "metadata": {},
   "outputs": [
    {
     "name": "stderr",
     "output_type": "stream",
     "text": [
      "d:\\signup\\upwork\\footbal\\venv\\lib\\site-packages\\tqdm\\auto.py:21: TqdmWarning: IProgress not found. Please update jupyter and ipywidgets. See https://ipywidgets.readthedocs.io/en/stable/user_install.html\n",
      "  from .autonotebook import tqdm as notebook_tqdm\n"
     ]
    }
   ],
   "source": [
    "import google.generativeai as genai\n",
    "\n",
    "from dotenv import load_dotenv\n",
    "load_dotenv() # load all environment variables from .env\n",
    "import os\n",
    "\n",
    "import mysql.connector\n",
    "import ast\n",
    "\n",
    "genai.configure(api_key=os.environ['GEMINI_API_KEY'])"
   ]
  },
  {
   "cell_type": "code",
   "execution_count": 7,
   "metadata": {},
   "outputs": [],
   "source": [
    "#### Get Info using GenAI ####\n",
    "\n",
    "def get_gemini_reponse(file, info_prompt, output):\n",
    "    input_prompt = f'''\n",
    "    You are an expert in understanding football match report. \n",
    "    You will receive input pdf as football match report and you will answer question\n",
    "    based on the input pdf file.\n",
    "    You should return {output}\n",
    "    '''\n",
    "    model = genai.GenerativeModel(\"gemini-1.5-flash\")\n",
    "    sample_pdf = genai.upload_file(file)\n",
    "    response = model.generate_content([input_prompt, sample_pdf, info_prompt])\n",
    "    return response.text\n",
    "    \n"
   ]
  },
  {
   "cell_type": "code",
   "execution_count": 70,
   "metadata": {},
   "outputs": [],
   "source": [
    "#### Save Info to Database #####\n",
    "db = mysql.connector.connect(\n",
    "    host=\"localhost\",\n",
    "    user=\"root\",\n",
    "    password=\"root\",\n",
    "    database=\"football\"\n",
    ")\n",
    "\n",
    "cursor = db.cursor()"
   ]
  },
  {
   "cell_type": "code",
   "execution_count": 76,
   "metadata": {},
   "outputs": [],
   "source": [
    "# cursor.execute('SHOW TABLES')\n",
    "\n",
    "\n",
    "cursor.execute('CREATE DATABASE IF NOT EXISTS football;')\n",
    "cursor.execute('USE football')\n",
    "# cursor.execute('DROP DATABASE football;')\n",
    "\n",
    "### NEED TO MODIFY VARIABLE FIRST BEFORE GO TO DATABASE\n",
    "# cursor.execute('DROP TABLE Game')\n",
    "# cursor.execute('TRUNCATE TABLE Game')\n"
   ]
  },
  {
   "cell_type": "markdown",
   "metadata": {},
   "source": [
    "## Game"
   ]
  },
  {
   "cell_type": "markdown",
   "metadata": {},
   "source": [
    "#### Get Info Game"
   ]
  },
  {
   "cell_type": "code",
   "execution_count": 8,
   "metadata": {},
   "outputs": [
    {
     "data": {
      "text/plain": [
       "\"{'championship': 'Paulista - SUB20/2024', 'round': 21, 'date': '2024-09-08', 'time': '15:00', 'stadium': 'Estádio Municipal Hermínio Esposito / Embu das Artes', 'home_team': 'Referência FC', 'away_team': 'Desportivo Brasil', 'referee': 'Ronald Horns Araujo', 'assistant_referee1': 'Guilherme Holanda Moura Lima', 'assistant_referee2': 'Matheus Guilherme Biselli da Cruz', 'fourth_official': 'Diego Augusto Fagundes', 'result_1sthalf': '2 X 1', 'result_final': '2 X 1'}\""
      ]
     },
     "execution_count": 8,
     "metadata": {},
     "output_type": "execute_result"
    }
   ],
   "source": [
    "game_info_input = 'match game information'\n",
    "game_output = '''Get all match game information in JSON format. \n",
    "\n",
    "Use this JSON schema:\n",
    "Game = {'championship': str, \n",
    "        'round': int, \n",
    "        'date': in YYYY Year-MM Month-DD day format, \n",
    "        'time': HH Hour:MM Minute:SS Second format, \n",
    "        'stadium': str, \n",
    "        'home_team': str, \n",
    "        'away_team': str, \n",
    "        'referee'; str, \n",
    "        'assistant_referee1': str, \n",
    "        'assistant_referee2'; str, \n",
    "        'fourth_official': str, \n",
    "        'result_1sthalf'; str, \n",
    "        'result_final': str}\n",
    "without newline\n",
    "'''\n",
    "\n",
    "game_response = get_gemini_reponse('docs.pdf', game_info_input, game_output)\n",
    "game_response\n",
    "# game_list = json.loads(game_response)\n",
    "# print(game_list)"
   ]
  },
  {
   "cell_type": "code",
   "execution_count": 9,
   "metadata": {},
   "outputs": [
    {
     "data": {
      "text/plain": [
       "{'championship': 'Paulista - SUB20/2024',\n",
       " 'round': 21,\n",
       " 'date': '2024-09-08',\n",
       " 'time': '15:00',\n",
       " 'stadium': 'Estádio Municipal Hermínio Esposito / Embu das Artes',\n",
       " 'home_team': 'Referência FC',\n",
       " 'away_team': 'Desportivo Brasil',\n",
       " 'referee': 'Ronald Horns Araujo',\n",
       " 'assistant_referee1': 'Guilherme Holanda Moura Lima',\n",
       " 'assistant_referee2': 'Matheus Guilherme Biselli da Cruz',\n",
       " 'fourth_official': 'Diego Augusto Fagundes',\n",
       " 'result_1sthalf': '2 X 1',\n",
       " 'result_final': '2 X 1'}"
      ]
     },
     "execution_count": 9,
     "metadata": {},
     "output_type": "execute_result"
    }
   ],
   "source": [
    "import ast\n",
    "\n",
    "game = ast.literal_eval(game_response)\n",
    "game"
   ]
  },
  {
   "cell_type": "markdown",
   "metadata": {},
   "source": [
    "#### Store Game in Mysql Database"
   ]
  },
  {
   "cell_type": "code",
   "execution_count": 77,
   "metadata": {},
   "outputs": [],
   "source": [
    "\n",
    "# Create Table Game\n",
    "cursor.execute('''CREATE TABLE IF NOT EXISTS GameS (\n",
    "    game_id INT PRIMARY KEY AUTO_INCREMENT,\n",
    "    championship VARCHAR(100),\n",
    "    round smallint,\n",
    "    date DATE,\n",
    "    time TIME,\n",
    "    stadium VARCHAR(150),\n",
    "    home_team VARCHAR(50)  NOT NULL,\n",
    "    away_team VARCHAR(50) NOT NULL,\n",
    "    referee VARCHAR(50),\n",
    "    assistant_referee1 VARCHAR(50),\n",
    "    assistant_referee2 VARCHAR(50),\n",
    "    fourth_official VARCHAR(50),\n",
    "    result_1sthalf VARCHAR(10),\n",
    "    result_final VARCHAR(10)\n",
    ");''')\n",
    "cursor.execute('ALTER TABLE gameS AUTO_INCREMENT=1000')\n"
   ]
  },
  {
   "cell_type": "code",
   "execution_count": 79,
   "metadata": {},
   "outputs": [],
   "source": [
    "# Add Game Match\n",
    "cursor.execute('''\n",
    "    INSERT INTO Games (\n",
    "        championship, round, date, time, stadium, home_team, away_team, referee,\n",
    "        assistant_referee1, assistant_referee2, fourth_official, result_1sthalf, result_final\n",
    "    ) \n",
    "    VALUES (%s, %s, %s, %s, %s, %s, %s, %s, %s, %s, %s, %s, %s)\n",
    "''', (game['championship'], game['round'], game['date'], game['time'], game['stadium'], \n",
    "    game['home_team'], game['away_team'], game['referee'], game['assistant_referee1'], \n",
    "    game['assistant_referee2'], game['fourth_official'], game['result_1sthalf'], \n",
    "    game['result_final']))\n",
    "db.commit()"
   ]
  },
  {
   "cell_type": "markdown",
   "metadata": {},
   "source": [
    "## Team"
   ]
  },
  {
   "cell_type": "markdown",
   "metadata": {},
   "source": [
    "#### Get Info Team"
   ]
  },
  {
   "cell_type": "code",
   "execution_count": 78,
   "metadata": {},
   "outputs": [
    {
     "data": {
      "text/plain": [
       "\"[{'team': 'Referência FC', 'type': 'home'}, {'team': 'Desportivo Brasil', 'type': 'away'}]\""
      ]
     },
     "execution_count": 78,
     "metadata": {},
     "output_type": "execute_result"
    }
   ],
   "source": [
    "team_info_input = 'team information'\n",
    "team_output = '''Get all team information in JSON format. \n",
    "\n",
    "Use this JSON schema:\n",
    "[{'team': str, \n",
    "        'type': either home/away}]\n",
    "without newline\n",
    "''' \n",
    "\n",
    "team_response = get_gemini_reponse('docs.pdf', team_info_input, team_output)\n",
    "team_response"
   ]
  },
  {
   "cell_type": "code",
   "execution_count": 67,
   "metadata": {},
   "outputs": [
    {
     "data": {
      "text/plain": [
       "[{'team': 'Referência FC', 'type': 'home'},\n",
       " {'team': 'Desportivo Brasil', 'type': 'away'}]"
      ]
     },
     "execution_count": 67,
     "metadata": {},
     "output_type": "execute_result"
    }
   ],
   "source": [
    "import ast\n",
    "\n",
    "teams = ast.literal_eval(team_response)\n",
    "teams"
   ]
  },
  {
   "cell_type": "code",
   "execution_count": 68,
   "metadata": {},
   "outputs": [
    {
     "name": "stdout",
     "output_type": "stream",
     "text": [
      "Referência FC\n",
      "Desportivo Brasil\n"
     ]
    }
   ],
   "source": [
    "for team in teams:\n",
    "    print(team['team'])"
   ]
  },
  {
   "cell_type": "markdown",
   "metadata": {},
   "source": [
    "#### Store Team in Mysql Database"
   ]
  },
  {
   "cell_type": "code",
   "execution_count": null,
   "metadata": {},
   "outputs": [],
   "source": [
    "# cursor.execute('DROP TABLE Team')"
   ]
  },
  {
   "cell_type": "code",
   "execution_count": 80,
   "metadata": {},
   "outputs": [],
   "source": [
    "\n",
    "# Create Table Team\n",
    "cursor.execute('''CREATE TABLE IF NOT EXISTS Teams (\n",
    "    team_id INT PRIMARY KEY AUTO_INCREMENT,\n",
    "    name VARCHAR(100),\n",
    "    type VARCHAR(10),\n",
    "    game_id INT,\n",
    "    FOREIGN KEY(game_id) REFERENCES Games(game_id)\n",
    ");''')\n",
    "cursor.execute('ALTER TABLE Teams AUTO_INCREMENT=2000')\n"
   ]
  },
  {
   "cell_type": "code",
   "execution_count": 81,
   "metadata": {},
   "outputs": [],
   "source": [
    "# Add Team\n",
    "cursor.execute('SELECT game_id FROM games WHERE championship = %s', (game['championship'],))\n",
    "game_id = cursor.fetchone()[0]  \n",
    "\n",
    "for t in teams:\n",
    "    cursor.execute('''\n",
    "        INSERT INTO Teams (\n",
    "            name, type, game_id\n",
    "        ) \n",
    "        VALUES (%s, %s, %s)     ## must as String\n",
    "    ''', (t['team'], t['type'], game_id))\n",
    "    db.commit()"
   ]
  },
  {
   "cell_type": "markdown",
   "metadata": {},
   "source": [
    "## Player"
   ]
  },
  {
   "cell_type": "markdown",
   "metadata": {},
   "source": [
    "#### Get Info Player"
   ]
  },
  {
   "cell_type": "code",
   "execution_count": 44,
   "metadata": {},
   "outputs": [
    {
     "data": {
      "text/plain": [
       "'[{\"team_name\": \"Referência FC\", \"players\": [{\"name\": \"Gabriel Dias Braga\", \"number\": 1, \"registration\": \"544184/24\", \"position\": \"Starter\", \"type\": \"Amateur\"}, {\"name\": \"Francisco Ayello Guimarães\", \"number\": 2, \"registration\": \"544987/24\", \"position\": \"Starter\", \"type\": \"Amateur\"}, {\"name\": \"Marcelo das Neves Anastácio\", \"number\": 3, \"registration\": \"545578/24\", \"position\": \"Starter\", \"type\": \"Amateur\"}, {\"name\": \"Pedro Henrique Monteiro da Silva\", \"number\": 4, \"registration\": \"544186/24\", \"position\": \"Starter\", \"type\": \"Amateur\"}, {\"name\": \"Gabriel Xavier dos Santos\", \"number\": 5, \"registration\": \"572388/24\", \"position\": \"Starter\", \"type\": \"Amateur\"}, {\"name\": \"Guilherme Carlos Barrero Tonon\", \"number\": 6, \"registration\": \"550823/24\", \"position\": \"Starter\", \"type\": \"Amateur\"}, {\"name\": \"Pedro Henrique Duran Reis\", \"number\": 7, \"registration\": \"541211/24\", \"position\": \"Starter\", \"type\": \"Amateur\"}, {\"name\": \"Luciano Lima da Paz\", \"number\": 8, \"registration\": \"565324/24\", \"position\": \"Starter\", \"type\": \"Amateur\"}, {\"name\": \"João Vitor Soares dos Santos\", \"number\": 9, \"registration\": \"572672/24\", \"position\": \"Starter\", \"type\": \"Amateur\"}, {\"name\": \"Lucca Santos Guimarães\", \"number\": 10, \"registration\": \"544187/24\", \"position\": \"Starter\", \"type\": \"Amateur\"}, {\"name\": \"Luca Fonseca Von Beust\", \"number\": 11, \"registration\": \"564735/24\", \"position\": \"Starter\", \"type\": \"Amateur\"}, {\"name\": \"Kevin Wallace de Jesus Sabino\", \"number\": 12, \"registration\": \"550763/24\", \"position\": \"Reserve\", \"type\": \"Amateur\"}, {\"name\": \"Diego Costa Mendes\", \"number\": 13, \"registration\": \"545366/24\", \"position\": \"Reserve\", \"type\": \"Amateur\"}, {\"name\": \"Adriano Gonçalves Ferreira Júnior\", \"number\": 14, \"registration\": \"552786/24\", \"position\": \"Reserve\", \"type\": \"Amateur\"}, {\"name\": \"Igor Jesus Brito\", \"number\": 15, \"registration\": \"523260/23\", \"position\": \"Reserve\", \"type\": \"Amateur\"}, {\"name\": \"Ryan Pedro Pereira da Silva\", \"number\": 16, \"registration\": \"544495/24\", \"position\": \"Reserve\", \"type\": \"Amateur\"}, {\"name\": \"Rafael Henrique Santos Resende\", \"number\": 17, \"registration\": \"545385/24\", \"position\": \"Reserve\", \"type\": \"Amateur\"}, {\"name\": \"Emmanuel Ferreira de Jesus\", \"number\": 18, \"registration\": \"551122/24\", \"position\": \"Reserve\", \"type\": \"Amateur\"}, {\"name\": \"Otavio de Araujo Felisbino\", \"number\": 19, \"registration\": \"567674/24\", \"position\": \"Reserve\", \"type\": \"Amateur\"}, {\"name\": \"Leonardo Pinheiro Gonçalves\", \"number\": 20, \"registration\": \"550826/24\", \"position\": \"Reserve\", \"type\": \"Amateur\"}]}, {\"team_name\": \"Desportivo Brasil\", \"players\": [{\"name\": \"Julio Cesar Marengo Santos\", \"number\": 1, \"registration\": \"484074/22\", \"position\": \"Starter\", \"type\": \"Amateur\"}, {\"name\": \"Rogerio Zuim\", \"number\": 2, \"registration\": \"391112/20\", \"position\": \"Starter\", \"type\": \"Professional\"}, {\"name\": \"Ryan Rizardi Santos\", \"number\": 3, \"registration\": \"470626/21\", \"position\": \"Starter\", \"type\": \"Professional\"}, {\"name\": \"Gabriel dos Santos\", \"number\": 4, \"registration\": \"540826/24\", \"position\": \"Starter\", \"type\": \"Professional\"}, {\"name\": \"Matheus Ferreira Sálles\", \"number\": 5, \"registration\": \"488655/22\", \"position\": \"Starter\", \"type\": \"Professional\"}, {\"name\": \"Claudio Henrique de Jesus Passos\", \"number\": 6, \"registration\": \"507003/23\", \"position\": \"Starter\", \"type\": \"Amateur\"}, {\"name\": \"Victor Hugo da Silva Barbara\", \"number\": 7, \"registration\": \"519942/23\", \"position\": \"Starter\", \"type\": \"Professional\"}, {\"name\": \"Alysson Adriano Santos Soares\", \"number\": 8, \"registration\": \"521814/23\", \"position\": \"Starter\", \"type\": \"Professional\"}, {\"name\": \"Joao Manoel de Sousa Queiroz\", \"number\": 9, \"registration\": \"470574/21\", \"position\": \"Starter\", \"type\": \"Professional\"}, {\"name\": \"Kauan Vinicius dos Santos das Gra\", \"number\": 10, \"registration\": \"390537/20\", \"position\": \"Starter\", \"type\": \"Professional\"}, {\"name\": \"Samuel Josias Sabino Pinheiro\", \"number\": 11, \"registration\": \"479154/22\", \"position\": \"Starter\", \"type\": \"Professional\"}, {\"name\": \"Guilherme Ferreira da Silva\", \"number\": 12, \"registration\": \"524263/23\", \"position\": \"Reserve\", \"type\": \"Amateur\"}, {\"name\": \"João Victor da Silva\", \"number\": 13, \"registration\": \"501679/23\", \"position\": \"Reserve\", \"type\": \"Professional\"}, {\"name\": \"Ruan Pablo Leão Cardoso dos Santo\", \"number\": 14, \"registration\": \"394634/21\", \"position\": \"Reserve\", \"type\": \"Professional\"}, {\"name\": \"Guilherme Rafael da Silva\", \"number\": 15, \"registration\": \"408460/21\", \"position\": \"Reserve\", \"type\": \"Professional\"}, {\"name\": \"Guilherme Gomes Santos\", \"number\": 16, \"registration\": \"507854/23\", \"position\": \"Reserve\", \"type\": \"Amateur\"}, {\"name\": \"Leandro Roberto Parmigiani lamamo\", \"number\": 17, \"registration\": \"480244/22\", \"position\": \"Reserve\", \"type\": \"Professional\"}, {\"name\": \"Kayo de Oliveira Lima\", \"number\": 18, \"registration\": \"497153/22\", \"position\": \"Reserve\", \"type\": \"Professional\"}, {\"name\": \"Carlos Eduardo de Oliveira\", \"number\": 19, \"registration\": \"399462/21\", \"position\": \"Reserve\", \"type\": \"Professional\"}, {\"name\": \"Pedro Henrique Alves Soriano do A\", \"number\": 20, \"registration\": \"560789/24\", \"position\": \"Reserve\", \"type\": \"Professional\"}]}]'"
      ]
     },
     "execution_count": 44,
     "metadata": {},
     "output_type": "execute_result"
    }
   ],
   "source": [
    "player_info_input = 'player information'\n",
    "player_output = '''Get all player information for each team in JSON format. \n",
    "\n",
    "Use this JSON schema:\n",
    "[ {\n",
    "    \"team_name\": \"string\",\n",
    "    \"players\": [\n",
    "        {\n",
    "        'name': str either home/away, \n",
    "        'number': int,\n",
    "        'registration': str,\n",
    "        'position': either Starter or Reserve,\n",
    "        'type': either Professional or Amateur,\n",
    "        }\n",
    "    ]\n",
    "  } ]\n",
    "without newline\n",
    "'''\n",
    "\n",
    "player_response = get_gemini_reponse('docs.pdf', player_info_input, player_output)\n",
    "player_response"
   ]
  },
  {
   "cell_type": "code",
   "execution_count": 45,
   "metadata": {},
   "outputs": [
    {
     "data": {
      "text/plain": [
       "[{'team_name': 'Referência FC',\n",
       "  'players': [{'name': 'Gabriel Dias Braga',\n",
       "    'number': 1,\n",
       "    'registration': '544184/24',\n",
       "    'position': 'Starter',\n",
       "    'type': 'Amateur'},\n",
       "   {'name': 'Francisco Ayello Guimarães',\n",
       "    'number': 2,\n",
       "    'registration': '544987/24',\n",
       "    'position': 'Starter',\n",
       "    'type': 'Amateur'},\n",
       "   {'name': 'Marcelo das Neves Anastácio',\n",
       "    'number': 3,\n",
       "    'registration': '545578/24',\n",
       "    'position': 'Starter',\n",
       "    'type': 'Amateur'},\n",
       "   {'name': 'Pedro Henrique Monteiro da Silva',\n",
       "    'number': 4,\n",
       "    'registration': '544186/24',\n",
       "    'position': 'Starter',\n",
       "    'type': 'Amateur'},\n",
       "   {'name': 'Gabriel Xavier dos Santos',\n",
       "    'number': 5,\n",
       "    'registration': '572388/24',\n",
       "    'position': 'Starter',\n",
       "    'type': 'Amateur'},\n",
       "   {'name': 'Guilherme Carlos Barrero Tonon',\n",
       "    'number': 6,\n",
       "    'registration': '550823/24',\n",
       "    'position': 'Starter',\n",
       "    'type': 'Amateur'},\n",
       "   {'name': 'Pedro Henrique Duran Reis',\n",
       "    'number': 7,\n",
       "    'registration': '541211/24',\n",
       "    'position': 'Starter',\n",
       "    'type': 'Amateur'},\n",
       "   {'name': 'Luciano Lima da Paz',\n",
       "    'number': 8,\n",
       "    'registration': '565324/24',\n",
       "    'position': 'Starter',\n",
       "    'type': 'Amateur'},\n",
       "   {'name': 'João Vitor Soares dos Santos',\n",
       "    'number': 9,\n",
       "    'registration': '572672/24',\n",
       "    'position': 'Starter',\n",
       "    'type': 'Amateur'},\n",
       "   {'name': 'Lucca Santos Guimarães',\n",
       "    'number': 10,\n",
       "    'registration': '544187/24',\n",
       "    'position': 'Starter',\n",
       "    'type': 'Amateur'},\n",
       "   {'name': 'Luca Fonseca Von Beust',\n",
       "    'number': 11,\n",
       "    'registration': '564735/24',\n",
       "    'position': 'Starter',\n",
       "    'type': 'Amateur'},\n",
       "   {'name': 'Kevin Wallace de Jesus Sabino',\n",
       "    'number': 12,\n",
       "    'registration': '550763/24',\n",
       "    'position': 'Reserve',\n",
       "    'type': 'Amateur'},\n",
       "   {'name': 'Diego Costa Mendes',\n",
       "    'number': 13,\n",
       "    'registration': '545366/24',\n",
       "    'position': 'Reserve',\n",
       "    'type': 'Amateur'},\n",
       "   {'name': 'Adriano Gonçalves Ferreira Júnior',\n",
       "    'number': 14,\n",
       "    'registration': '552786/24',\n",
       "    'position': 'Reserve',\n",
       "    'type': 'Amateur'},\n",
       "   {'name': 'Igor Jesus Brito',\n",
       "    'number': 15,\n",
       "    'registration': '523260/23',\n",
       "    'position': 'Reserve',\n",
       "    'type': 'Amateur'},\n",
       "   {'name': 'Ryan Pedro Pereira da Silva',\n",
       "    'number': 16,\n",
       "    'registration': '544495/24',\n",
       "    'position': 'Reserve',\n",
       "    'type': 'Amateur'},\n",
       "   {'name': 'Rafael Henrique Santos Resende',\n",
       "    'number': 17,\n",
       "    'registration': '545385/24',\n",
       "    'position': 'Reserve',\n",
       "    'type': 'Amateur'},\n",
       "   {'name': 'Emmanuel Ferreira de Jesus',\n",
       "    'number': 18,\n",
       "    'registration': '551122/24',\n",
       "    'position': 'Reserve',\n",
       "    'type': 'Amateur'},\n",
       "   {'name': 'Otavio de Araujo Felisbino',\n",
       "    'number': 19,\n",
       "    'registration': '567674/24',\n",
       "    'position': 'Reserve',\n",
       "    'type': 'Amateur'},\n",
       "   {'name': 'Leonardo Pinheiro Gonçalves',\n",
       "    'number': 20,\n",
       "    'registration': '550826/24',\n",
       "    'position': 'Reserve',\n",
       "    'type': 'Amateur'}]},\n",
       " {'team_name': 'Desportivo Brasil',\n",
       "  'players': [{'name': 'Julio Cesar Marengo Santos',\n",
       "    'number': 1,\n",
       "    'registration': '484074/22',\n",
       "    'position': 'Starter',\n",
       "    'type': 'Amateur'},\n",
       "   {'name': 'Rogerio Zuim',\n",
       "    'number': 2,\n",
       "    'registration': '391112/20',\n",
       "    'position': 'Starter',\n",
       "    'type': 'Professional'},\n",
       "   {'name': 'Ryan Rizardi Santos',\n",
       "    'number': 3,\n",
       "    'registration': '470626/21',\n",
       "    'position': 'Starter',\n",
       "    'type': 'Professional'},\n",
       "   {'name': 'Gabriel dos Santos',\n",
       "    'number': 4,\n",
       "    'registration': '540826/24',\n",
       "    'position': 'Starter',\n",
       "    'type': 'Professional'},\n",
       "   {'name': 'Matheus Ferreira Sálles',\n",
       "    'number': 5,\n",
       "    'registration': '488655/22',\n",
       "    'position': 'Starter',\n",
       "    'type': 'Professional'},\n",
       "   {'name': 'Claudio Henrique de Jesus Passos',\n",
       "    'number': 6,\n",
       "    'registration': '507003/23',\n",
       "    'position': 'Starter',\n",
       "    'type': 'Amateur'},\n",
       "   {'name': 'Victor Hugo da Silva Barbara',\n",
       "    'number': 7,\n",
       "    'registration': '519942/23',\n",
       "    'position': 'Starter',\n",
       "    'type': 'Professional'},\n",
       "   {'name': 'Alysson Adriano Santos Soares',\n",
       "    'number': 8,\n",
       "    'registration': '521814/23',\n",
       "    'position': 'Starter',\n",
       "    'type': 'Professional'},\n",
       "   {'name': 'Joao Manoel de Sousa Queiroz',\n",
       "    'number': 9,\n",
       "    'registration': '470574/21',\n",
       "    'position': 'Starter',\n",
       "    'type': 'Professional'},\n",
       "   {'name': 'Kauan Vinicius dos Santos das Gra',\n",
       "    'number': 10,\n",
       "    'registration': '390537/20',\n",
       "    'position': 'Starter',\n",
       "    'type': 'Professional'},\n",
       "   {'name': 'Samuel Josias Sabino Pinheiro',\n",
       "    'number': 11,\n",
       "    'registration': '479154/22',\n",
       "    'position': 'Starter',\n",
       "    'type': 'Professional'},\n",
       "   {'name': 'Guilherme Ferreira da Silva',\n",
       "    'number': 12,\n",
       "    'registration': '524263/23',\n",
       "    'position': 'Reserve',\n",
       "    'type': 'Amateur'},\n",
       "   {'name': 'João Victor da Silva',\n",
       "    'number': 13,\n",
       "    'registration': '501679/23',\n",
       "    'position': 'Reserve',\n",
       "    'type': 'Professional'},\n",
       "   {'name': 'Ruan Pablo Leão Cardoso dos Santo',\n",
       "    'number': 14,\n",
       "    'registration': '394634/21',\n",
       "    'position': 'Reserve',\n",
       "    'type': 'Professional'},\n",
       "   {'name': 'Guilherme Rafael da Silva',\n",
       "    'number': 15,\n",
       "    'registration': '408460/21',\n",
       "    'position': 'Reserve',\n",
       "    'type': 'Professional'},\n",
       "   {'name': 'Guilherme Gomes Santos',\n",
       "    'number': 16,\n",
       "    'registration': '507854/23',\n",
       "    'position': 'Reserve',\n",
       "    'type': 'Amateur'},\n",
       "   {'name': 'Leandro Roberto Parmigiani lamamo',\n",
       "    'number': 17,\n",
       "    'registration': '480244/22',\n",
       "    'position': 'Reserve',\n",
       "    'type': 'Professional'},\n",
       "   {'name': 'Kayo de Oliveira Lima',\n",
       "    'number': 18,\n",
       "    'registration': '497153/22',\n",
       "    'position': 'Reserve',\n",
       "    'type': 'Professional'},\n",
       "   {'name': 'Carlos Eduardo de Oliveira',\n",
       "    'number': 19,\n",
       "    'registration': '399462/21',\n",
       "    'position': 'Reserve',\n",
       "    'type': 'Professional'},\n",
       "   {'name': 'Pedro Henrique Alves Soriano do A',\n",
       "    'number': 20,\n",
       "    'registration': '560789/24',\n",
       "    'position': 'Reserve',\n",
       "    'type': 'Professional'}]}]"
      ]
     },
     "execution_count": 45,
     "metadata": {},
     "output_type": "execute_result"
    }
   ],
   "source": [
    "players = ast.literal_eval(player_response)\n",
    "players"
   ]
  },
  {
   "cell_type": "code",
   "execution_count": 46,
   "metadata": {},
   "outputs": [
    {
     "name": "stdout",
     "output_type": "stream",
     "text": [
      "{'team_name': 'Referência FC', 'players': [{'name': 'Gabriel Dias Braga', 'number': 1, 'registration': '544184/24', 'position': 'Starter', 'type': 'Amateur'}, {'name': 'Francisco Ayello Guimarães', 'number': 2, 'registration': '544987/24', 'position': 'Starter', 'type': 'Amateur'}, {'name': 'Marcelo das Neves Anastácio', 'number': 3, 'registration': '545578/24', 'position': 'Starter', 'type': 'Amateur'}, {'name': 'Pedro Henrique Monteiro da Silva', 'number': 4, 'registration': '544186/24', 'position': 'Starter', 'type': 'Amateur'}, {'name': 'Gabriel Xavier dos Santos', 'number': 5, 'registration': '572388/24', 'position': 'Starter', 'type': 'Amateur'}, {'name': 'Guilherme Carlos Barrero Tonon', 'number': 6, 'registration': '550823/24', 'position': 'Starter', 'type': 'Amateur'}, {'name': 'Pedro Henrique Duran Reis', 'number': 7, 'registration': '541211/24', 'position': 'Starter', 'type': 'Amateur'}, {'name': 'Luciano Lima da Paz', 'number': 8, 'registration': '565324/24', 'position': 'Starter', 'type': 'Amateur'}, {'name': 'João Vitor Soares dos Santos', 'number': 9, 'registration': '572672/24', 'position': 'Starter', 'type': 'Amateur'}, {'name': 'Lucca Santos Guimarães', 'number': 10, 'registration': '544187/24', 'position': 'Starter', 'type': 'Amateur'}, {'name': 'Luca Fonseca Von Beust', 'number': 11, 'registration': '564735/24', 'position': 'Starter', 'type': 'Amateur'}, {'name': 'Kevin Wallace de Jesus Sabino', 'number': 12, 'registration': '550763/24', 'position': 'Reserve', 'type': 'Amateur'}, {'name': 'Diego Costa Mendes', 'number': 13, 'registration': '545366/24', 'position': 'Reserve', 'type': 'Amateur'}, {'name': 'Adriano Gonçalves Ferreira Júnior', 'number': 14, 'registration': '552786/24', 'position': 'Reserve', 'type': 'Amateur'}, {'name': 'Igor Jesus Brito', 'number': 15, 'registration': '523260/23', 'position': 'Reserve', 'type': 'Amateur'}, {'name': 'Ryan Pedro Pereira da Silva', 'number': 16, 'registration': '544495/24', 'position': 'Reserve', 'type': 'Amateur'}, {'name': 'Rafael Henrique Santos Resende', 'number': 17, 'registration': '545385/24', 'position': 'Reserve', 'type': 'Amateur'}, {'name': 'Emmanuel Ferreira de Jesus', 'number': 18, 'registration': '551122/24', 'position': 'Reserve', 'type': 'Amateur'}, {'name': 'Otavio de Araujo Felisbino', 'number': 19, 'registration': '567674/24', 'position': 'Reserve', 'type': 'Amateur'}, {'name': 'Leonardo Pinheiro Gonçalves', 'number': 20, 'registration': '550826/24', 'position': 'Reserve', 'type': 'Amateur'}]}\n",
      "{'team_name': 'Desportivo Brasil', 'players': [{'name': 'Julio Cesar Marengo Santos', 'number': 1, 'registration': '484074/22', 'position': 'Starter', 'type': 'Amateur'}, {'name': 'Rogerio Zuim', 'number': 2, 'registration': '391112/20', 'position': 'Starter', 'type': 'Professional'}, {'name': 'Ryan Rizardi Santos', 'number': 3, 'registration': '470626/21', 'position': 'Starter', 'type': 'Professional'}, {'name': 'Gabriel dos Santos', 'number': 4, 'registration': '540826/24', 'position': 'Starter', 'type': 'Professional'}, {'name': 'Matheus Ferreira Sálles', 'number': 5, 'registration': '488655/22', 'position': 'Starter', 'type': 'Professional'}, {'name': 'Claudio Henrique de Jesus Passos', 'number': 6, 'registration': '507003/23', 'position': 'Starter', 'type': 'Amateur'}, {'name': 'Victor Hugo da Silva Barbara', 'number': 7, 'registration': '519942/23', 'position': 'Starter', 'type': 'Professional'}, {'name': 'Alysson Adriano Santos Soares', 'number': 8, 'registration': '521814/23', 'position': 'Starter', 'type': 'Professional'}, {'name': 'Joao Manoel de Sousa Queiroz', 'number': 9, 'registration': '470574/21', 'position': 'Starter', 'type': 'Professional'}, {'name': 'Kauan Vinicius dos Santos das Gra', 'number': 10, 'registration': '390537/20', 'position': 'Starter', 'type': 'Professional'}, {'name': 'Samuel Josias Sabino Pinheiro', 'number': 11, 'registration': '479154/22', 'position': 'Starter', 'type': 'Professional'}, {'name': 'Guilherme Ferreira da Silva', 'number': 12, 'registration': '524263/23', 'position': 'Reserve', 'type': 'Amateur'}, {'name': 'João Victor da Silva', 'number': 13, 'registration': '501679/23', 'position': 'Reserve', 'type': 'Professional'}, {'name': 'Ruan Pablo Leão Cardoso dos Santo', 'number': 14, 'registration': '394634/21', 'position': 'Reserve', 'type': 'Professional'}, {'name': 'Guilherme Rafael da Silva', 'number': 15, 'registration': '408460/21', 'position': 'Reserve', 'type': 'Professional'}, {'name': 'Guilherme Gomes Santos', 'number': 16, 'registration': '507854/23', 'position': 'Reserve', 'type': 'Amateur'}, {'name': 'Leandro Roberto Parmigiani lamamo', 'number': 17, 'registration': '480244/22', 'position': 'Reserve', 'type': 'Professional'}, {'name': 'Kayo de Oliveira Lima', 'number': 18, 'registration': '497153/22', 'position': 'Reserve', 'type': 'Professional'}, {'name': 'Carlos Eduardo de Oliveira', 'number': 19, 'registration': '399462/21', 'position': 'Reserve', 'type': 'Professional'}, {'name': 'Pedro Henrique Alves Soriano do A', 'number': 20, 'registration': '560789/24', 'position': 'Reserve', 'type': 'Professional'}]}\n"
     ]
    }
   ],
   "source": [
    "for player in players:\n",
    "    print(player)"
   ]
  },
  {
   "cell_type": "markdown",
   "metadata": {},
   "source": [
    "#### Store Player in Mysql Database"
   ]
  },
  {
   "cell_type": "code",
   "execution_count": 49,
   "metadata": {},
   "outputs": [],
   "source": [
    "# Create Table Player\n",
    "cursor.execute('''CREATE TABLE IF NOT EXISTS Players (\n",
    "    player_id INT PRIMARY KEY AUTO_INCREMENT,\n",
    "    name VARCHAR(100),\n",
    "    number smallint,\n",
    "    registration VARCHAR(15),\n",
    "    position VARCHAR(10),\n",
    "    type VARCHAR(15),\n",
    "    team_id INT,\n",
    "    FOREIGN KEY(team_id) REFERENCES Teams(team_id)\n",
    ");''')\n",
    "cursor.execute('ALTER TABLE Players AUTO_INCREMENT=3000')\n"
   ]
  },
  {
   "cell_type": "code",
   "execution_count": null,
   "metadata": {},
   "outputs": [],
   "source": [
    "# Add player\n",
    "for team in players:\n",
    "    cursor.execute('SELECT team_id FROM teams WHERE name = %s', (team['team_name'],))\n",
    "    team_id = cursor.fetchone()[0]  \n",
    "    for player in team['players']:\n",
    "        cursor.execute('''\n",
    "            INSERT INTO players (\n",
    "                name, number, registration, position, type, team_id\n",
    "            ) \n",
    "            VALUES (%s, %s, %s, %s, %s, %s)     ##  must as String\n",
    "        ''', (player['name'], player['number'], player['registration'], player['position'], player['type'], team_id))\n",
    "        db.commit()"
   ]
  },
  {
   "cell_type": "markdown",
   "metadata": {},
   "source": [
    "##  Staff"
   ]
  },
  {
   "cell_type": "code",
   "execution_count": 47,
   "metadata": {},
   "outputs": [
    {
     "data": {
      "text/plain": [
       "'[{\"team_name\": \"Referência FC\", \"staffs\": [{\"name\": \"Rodrigo de Oliveira Camargo\", \"role\": \"Técnico\"}, {\"name\": \"Danilo Claudino\", \"role\": \"Auxiliar Técnico\"}, {\"name\": \"Rafael Gobbato Brandão Cavalcanti\", \"role\": \"Médico\"}, {\"name\": \"Matheus Keller Vieira\", \"role\": \"Massagista\"}, {\"name\": \"Victor Staibano Gonçalves Wang\", \"role\": \"Preparador Físico\"}]}, {\"team_name\": \"Desportivo Brasil\", \"staffs\": [{\"name\": \"Fernando Lombardi\", \"role\": \"Técnico\"}, {\"name\": \"Jose Mario Soares do Prado\", \"role\": \"Auxiliar Técnico\"}, {\"name\": \"Fernando Cesar Siemann\", \"role\": \"Médico\"}, {\"name\": \"Misael Rodrigues de Oliveira\", \"role\": \"Massagista\"}, {\"name\": \"Luiz Fernando Bergamin\", \"role\": \"Preparador Físico\"}]}]'"
      ]
     },
     "execution_count": 47,
     "metadata": {},
     "output_type": "execute_result"
    }
   ],
   "source": [
    "staff_info_input = 'staff information'\n",
    "staff_output = '''Get all staff information for each team in JSON format. \n",
    "\n",
    "Use this JSON schema:\n",
    "[ {\n",
    "    \"team_name\": \"string\",\n",
    "    \"staffs\": [\n",
    "        {\n",
    "        'name': str, \n",
    "        'role': str\n",
    "        }\n",
    "    ]\n",
    "  } ]\n",
    "without newline\n",
    "'''\n",
    "\n",
    "staff_response = get_gemini_reponse('docs.pdf', staff_info_input, staff_output)\n",
    "staff_response"
   ]
  },
  {
   "cell_type": "code",
   "execution_count": 48,
   "metadata": {},
   "outputs": [
    {
     "data": {
      "text/plain": [
       "[{'team_name': 'Referência FC',\n",
       "  'staffs': [{'name': 'Rodrigo de Oliveira Camargo', 'role': 'Técnico'},\n",
       "   {'name': 'Danilo Claudino', 'role': 'Auxiliar Técnico'},\n",
       "   {'name': 'Rafael Gobbato Brandão Cavalcanti', 'role': 'Médico'},\n",
       "   {'name': 'Matheus Keller Vieira', 'role': 'Massagista'},\n",
       "   {'name': 'Victor Staibano Gonçalves Wang', 'role': 'Preparador Físico'}]},\n",
       " {'team_name': 'Desportivo Brasil',\n",
       "  'staffs': [{'name': 'Fernando Lombardi', 'role': 'Técnico'},\n",
       "   {'name': 'Jose Mario Soares do Prado', 'role': 'Auxiliar Técnico'},\n",
       "   {'name': 'Fernando Cesar Siemann', 'role': 'Médico'},\n",
       "   {'name': 'Misael Rodrigues de Oliveira', 'role': 'Massagista'},\n",
       "   {'name': 'Luiz Fernando Bergamin', 'role': 'Preparador Físico'}]}]"
      ]
     },
     "execution_count": 48,
     "metadata": {},
     "output_type": "execute_result"
    }
   ],
   "source": [
    "staffs = ast.literal_eval(staff_response)\n",
    "staffs"
   ]
  },
  {
   "cell_type": "code",
   "execution_count": 58,
   "metadata": {},
   "outputs": [],
   "source": [
    "\n",
    "# Create Table Staff\n",
    "cursor.execute('''CREATE TABLE IF NOT EXISTS StaffS (\n",
    "    staff_id INT PRIMARY KEY AUTO_INCREMENT,\n",
    "    name VARCHAR(100),\n",
    "    role VARCHAR(20),\n",
    "    team_id INT,\n",
    "    FOREIGN KEY(team_id) REFERENCES Teams(team_id)\n",
    ");''')\n",
    "cursor.execute('ALTER TABLE StaffS AUTO_INCREMENT=4000')\n"
   ]
  },
  {
   "cell_type": "code",
   "execution_count": 59,
   "metadata": {},
   "outputs": [],
   "source": [
    "# Add staff\n",
    "for team in staffs:\n",
    "    cursor.execute('SELECT team_id FROM teams WHERE name = %s', (team['team_name'],))\n",
    "    team_id = cursor.fetchone()[0]  \n",
    "    for staff in team['staffs']:\n",
    "        cursor.execute('''\n",
    "            INSERT INTO staffs (\n",
    "                name, role, team_id\n",
    "            ) \n",
    "            VALUES (%s, %s, %s)     ##  must as String\n",
    "        ''', (staff['name'], staff['role'], team_id))\n",
    "        db.commit()"
   ]
  },
  {
   "cell_type": "markdown",
   "metadata": {},
   "source": [
    "## Substitution"
   ]
  },
  {
   "cell_type": "code",
   "execution_count": 49,
   "metadata": {},
   "outputs": [
    {
     "data": {
      "text/plain": [
       "'[{\"team_name\": \"Referência FC\", \"substitutions\": [{\"player_out\": 5, \"player_in\": 15, \"time\": \"INT\", \"half\": \"1T\"}, {\"player_out\": 10, \"player_in\": 14, \"time\": \"70:00\", \"half\": \"2T\"}, {\"player_out\": 6, \"player_in\": 16, \"time\": \"78:00\", \"half\": \"2T\"}, {\"player_out\": 7, \"player_in\": 17, \"time\": \"78:00\", \"half\": \"2T\"}, {\"player_out\": 11, \"player_in\": 19, \"time\": \"+ 2\", \"half\": \"2T\"}]}, {\"team_name\": \"Desportivo Brasil\", \"substitutions\": [{\"player_out\": 8, \"player_in\": 19, \"time\": \"56:00\", \"half\": \"2T\"}, {\"player_out\": 4, \"player_in\": 13, \"time\": \"56:00\", \"half\": \"2T\"}, {\"player_out\": 2, \"player_in\": 15, \"time\": \"66:00\", \"half\": \"2T\"}, {\"player_out\": 5, \"player_in\": 20, \"time\": \"85:00\", \"half\": \"2T\"}]}]'"
      ]
     },
     "execution_count": 49,
     "metadata": {},
     "output_type": "execute_result"
    }
   ],
   "source": [
    "substitution_info_input = 'substitution information'\n",
    "substitution_output = '''Get all substitution information for each team in JSON format. \n",
    "\n",
    "Use this JSON schema:\n",
    "[  {\n",
    "    \"team_name\": \"string\",\n",
    "    \"substitutions\": [\n",
    "        {\n",
    "        'player_out': int no of player, \n",
    "        'player_in': int no of player,\n",
    "        'time': str,\n",
    "        'half': str\n",
    "'        }\n",
    "    ]\n",
    "  }]\n",
    "without newline\n",
    "'''\n",
    "\n",
    "substitution_response = get_gemini_reponse('docs.pdf', substitution_info_input, substitution_output)\n",
    "substitution_response"
   ]
  },
  {
   "cell_type": "code",
   "execution_count": 50,
   "metadata": {},
   "outputs": [
    {
     "data": {
      "text/plain": [
       "[{'team_name': 'Referência FC',\n",
       "  'substitutions': [{'player_out': 5,\n",
       "    'player_in': 15,\n",
       "    'time': 'INT',\n",
       "    'half': '1T'},\n",
       "   {'player_out': 10, 'player_in': 14, 'time': '70:00', 'half': '2T'},\n",
       "   {'player_out': 6, 'player_in': 16, 'time': '78:00', 'half': '2T'},\n",
       "   {'player_out': 7, 'player_in': 17, 'time': '78:00', 'half': '2T'},\n",
       "   {'player_out': 11, 'player_in': 19, 'time': '+ 2', 'half': '2T'}]},\n",
       " {'team_name': 'Desportivo Brasil',\n",
       "  'substitutions': [{'player_out': 8,\n",
       "    'player_in': 19,\n",
       "    'time': '56:00',\n",
       "    'half': '2T'},\n",
       "   {'player_out': 4, 'player_in': 13, 'time': '56:00', 'half': '2T'},\n",
       "   {'player_out': 2, 'player_in': 15, 'time': '66:00', 'half': '2T'},\n",
       "   {'player_out': 5, 'player_in': 20, 'time': '85:00', 'half': '2T'}]}]"
      ]
     },
     "execution_count": 50,
     "metadata": {},
     "output_type": "execute_result"
    }
   ],
   "source": [
    "substitutions = ast.literal_eval(substitution_response)\n",
    "substitutions"
   ]
  },
  {
   "cell_type": "code",
   "execution_count": 9,
   "metadata": {},
   "outputs": [],
   "source": [
    "# Create Table Substitutions\n",
    "cursor.execute('''CREATE TABLE IF NOT EXISTS Substitutions (\n",
    "    substitution_id INT PRIMARY KEY AUTO_INCREMENT,\n",
    "    player_out INT,\n",
    "    player_in INT,\n",
    "    time VARCHAR(6),\n",
    "    team_id INT,\n",
    "    half varchar(5),\n",
    "    FOREIGN KEY(player_out) REFERENCES Players(player_id),\n",
    "    FOREIGN KEY(player_in) REFERENCES Players(player_id),\n",
    "    FOREIGN KEY(team_id) REFERENCES Teams(team_id)\n",
    ");''')\n",
    "cursor.execute('ALTER TABLE Substitutions AUTO_INCREMENT=5000')\n"
   ]
  },
  {
   "cell_type": "code",
   "execution_count": null,
   "metadata": {},
   "outputs": [],
   "source": [
    "# Add substitution\n",
    "for team in substitutions:\n",
    "    cursor.execute('SELECT team_id FROM teams WHERE name = %s', (team['team_name'],))\n",
    "    team_id = cursor.fetchone()[0]  \n",
    "    for substitution in team['substitutions']:\n",
    "        cursor.execute('SELECT player_id FROM Players WHERE number = %s and team_id=%s', (substitution['player_out'], team_id))\n",
    "        player_out_id = cursor.fetchone()[0]\n",
    "        \n",
    "        cursor.execute('SELECT player_id FROM Players WHERE number = %s and team_id=%s', (substitution['player_in'], team_id))\n",
    "        player_in_id = cursor.fetchone()[0]  \n",
    "        \n",
    "        cursor.execute('''\n",
    "            INSERT INTO substitutions (\n",
    "                player_out, player_in, time, team_id, half\n",
    "            ) \n",
    "            VALUES (%s, %s, %s, %s, %s)     ##  must as String\n",
    "        ''', (player_out_id, player_in_id, substitution['time'], team_id, substitution['half']))\n",
    "        db.commit()"
   ]
  },
  {
   "cell_type": "markdown",
   "metadata": {},
   "source": [
    "##  Goals"
   ]
  },
  {
   "cell_type": "code",
   "execution_count": 51,
   "metadata": {},
   "outputs": [
    {
     "data": {
      "text/plain": [
       "'[{\"team_name\": \"Referência FC\", \"goals\": [{\"player_num\": 11, \"time\": \"25:00\", \"type\": \"Normal\"}, {\"player_num\": 9, \"time\": \"40:00\", \"type\": \"Normal\"}]}, {\"team_name\": \"Desportivo Brasil\", \"goals\": [{\"player_num\": 3, \"time\": \"10:00\", \"type\": \"Normal\"}]}]'"
      ]
     },
     "execution_count": 51,
     "metadata": {},
     "output_type": "execute_result"
    }
   ],
   "source": [
    "goal_info_input = 'goal information'\n",
    "goal_output = '''Get all goal information for each team in JSON format. \n",
    "\n",
    "Use this JSON schema:\n",
    "[  {\n",
    "    \"team_name\": \"string\",\n",
    "    \"goals\": [\n",
    "        {\n",
    "        'player_num': int no of player, \n",
    "        'time': str,\n",
    "        'type':  \"Penalty\" (use full type names like \"Normal\", \"Penalty\", \"Against\", or \"Foul\")\n",
    "'        }\n",
    "    ]\n",
    "  }]\n",
    "\n",
    "without newline\n",
    "'''\n",
    "\n",
    "goal_response = get_gemini_reponse('docs.pdf', goal_info_input, goal_output)\n",
    "goal_response"
   ]
  },
  {
   "cell_type": "code",
   "execution_count": 52,
   "metadata": {},
   "outputs": [
    {
     "data": {
      "text/plain": [
       "[{'team_name': 'Referência FC',\n",
       "  'goals': [{'player_num': 11, 'time': '25:00', 'type': 'Normal'},\n",
       "   {'player_num': 9, 'time': '40:00', 'type': 'Normal'}]},\n",
       " {'team_name': 'Desportivo Brasil',\n",
       "  'goals': [{'player_num': 3, 'time': '10:00', 'type': 'Normal'}]}]"
      ]
     },
     "execution_count": 52,
     "metadata": {},
     "output_type": "execute_result"
    }
   ],
   "source": [
    "goals = ast.literal_eval(goal_response)\n",
    "goals"
   ]
  },
  {
   "cell_type": "code",
   "execution_count": null,
   "metadata": {},
   "outputs": [],
   "source": [
    "# Create Table Goals\n",
    "cursor.execute('''CREATE TABLE IF NOT EXISTS Goals (\n",
    "    goal_id INT PRIMARY KEY AUTO_INCREMENT,\n",
    "    player_id INT,\n",
    "    time VARCHAR(5),\n",
    "    team_id INT,\n",
    "    type VARCHAR(10),\n",
    "    FOREIGN KEY(player_id) REFERENCES Players(player_id),\n",
    "    FOREIGN KEY(team_id) REFERENCES Teams(team_id)\n",
    ");''')\n",
    "cursor.execute('ALTER TABLE Goals AUTO_INCREMENT=6000')\n"
   ]
  },
  {
   "cell_type": "code",
   "execution_count": null,
   "metadata": {},
   "outputs": [],
   "source": [
    "# Add Goals\n",
    "for team in goals:\n",
    "    cursor.execute('SELECT team_id FROM teams WHERE name = %s', (team['team_name'],))\n",
    "    team_id = cursor.fetchone()[0]  \n",
    "    for goal in team['goals']:\n",
    "        cursor.execute('SELECT player_id FROM Players WHERE number = %s and team_id=%s', (goal['player_num'], team_id))\n",
    "        player_id = cursor.fetchone()[0]\n",
    "        \n",
    "        cursor.execute('''\n",
    "            INSERT INTO Goals (\n",
    "                player_id, time, team_id, type\n",
    "            ) \n",
    "            VALUES (%s, %s, %s, %s)     ##  must as String\n",
    "        ''', (player_id, goal['time'], team_id, goal['type']))\n",
    "        db.commit()"
   ]
  },
  {
   "cell_type": "markdown",
   "metadata": {},
   "source": [
    "##  Cards"
   ]
  },
  {
   "cell_type": "code",
   "execution_count": 53,
   "metadata": {},
   "outputs": [
    {
     "data": {
      "text/plain": [
       "'[{\"team_name\": \"Referência FC\", \"cards\": [{\"player_num\": 8, \"time\": \"58:00\", \"reason\": \"Impedir ataque promissor\", \"half\": \"2T\"}, {\"player_num\": 16, \"time\": \"80:00\", \"reason\": \"Impedir ataque promissor\", \"half\": \"2T\"}]}, {\"team_name\": \"Desportivo Brasil\", \"cards\": [{\"player_num\": 8, \"time\": \"51:00\", \"reason\": \"Ação temerária\", \"half\": \"2T\"}, {\"player_num\": 15, \"time\": \"68:00\", \"reason\": \"Ação temerária\", \"half\": \"2T\"}]}]'"
      ]
     },
     "execution_count": 53,
     "metadata": {},
     "output_type": "execute_result"
    }
   ],
   "source": [
    "card_info_input = 'card information'\n",
    "card_output = '''Get all card information for each team in JSON format. \n",
    "\n",
    "Use this JSON schema:\n",
    "[  {\n",
    "    \"team_name\": \"string\",\n",
    "    \"cards\": [\n",
    "        {\n",
    "        'player_num': int no of player, \n",
    "        'time': str,\n",
    "        'reason':  str,\n",
    "        'half: str\n",
    "'        }\n",
    "    ]\n",
    "  }]\n",
    "without newline\n",
    "'''\n",
    "\n",
    "card_response = get_gemini_reponse('docs.pdf', card_info_input, card_output)\n",
    "card_response"
   ]
  },
  {
   "cell_type": "code",
   "execution_count": 54,
   "metadata": {},
   "outputs": [
    {
     "data": {
      "text/plain": [
       "[{'team_name': 'Referência FC',\n",
       "  'cards': [{'player_num': 8,\n",
       "    'time': '58:00',\n",
       "    'reason': 'Impedir ataque promissor',\n",
       "    'half': '2T'},\n",
       "   {'player_num': 16,\n",
       "    'time': '80:00',\n",
       "    'reason': 'Impedir ataque promissor',\n",
       "    'half': '2T'}]},\n",
       " {'team_name': 'Desportivo Brasil',\n",
       "  'cards': [{'player_num': 8,\n",
       "    'time': '51:00',\n",
       "    'reason': 'Ação temerária',\n",
       "    'half': '2T'},\n",
       "   {'player_num': 15,\n",
       "    'time': '68:00',\n",
       "    'reason': 'Ação temerária',\n",
       "    'half': '2T'}]}]"
      ]
     },
     "execution_count": 54,
     "metadata": {},
     "output_type": "execute_result"
    }
   ],
   "source": [
    "cards = ast.literal_eval(card_response)\n",
    "cards"
   ]
  },
  {
   "cell_type": "code",
   "execution_count": 30,
   "metadata": {},
   "outputs": [],
   "source": [
    "# Create Table Card\n",
    "cursor.execute('''CREATE TABLE IF NOT EXISTS Cards (\n",
    "    card_id INT PRIMARY KEY AUTO_INCREMENT,\n",
    "    player_id INT,\n",
    "    time VARCHAR(5),\n",
    "    reason VARCHAR(35),\n",
    "    team_id INT,\n",
    "    half VARCHAR(10),\n",
    "    FOREIGN KEY(player_id) REFERENCES Players(player_id),\n",
    "    FOREIGN KEY(team_id) REFERENCES Teams(team_id)\n",
    ");''')\n",
    "cursor.execute('ALTER TABLE Cards AUTO_INCREMENT=7000')\n"
   ]
  },
  {
   "cell_type": "code",
   "execution_count": 32,
   "metadata": {},
   "outputs": [],
   "source": [
    "# Add Cards\n",
    "for team in cards:\n",
    "    cursor.execute('SELECT team_id FROM teams WHERE name = %s', (team['team_name'],))\n",
    "    team_id = cursor.fetchone()[0]  \n",
    "    for card in team['cards']:\n",
    "        cursor.execute('SELECT player_id FROM Players WHERE number = %s and team_id=%s', (card['player_num'], team_id))\n",
    "        player_id = cursor.fetchone()[0]\n",
    "        \n",
    "        cursor.execute('''\n",
    "            INSERT INTO Cards (\n",
    "                player_id, time, reason, team_id, half\n",
    "            ) \n",
    "            VALUES (%s, %s, %s, %s, %s)     ##  must as String\n",
    "        ''', (player_id, card['time'], card['reason'], team_id, card['half']))\n",
    "        db.commit()"
   ]
  },
  {
   "cell_type": "code",
   "execution_count": 52,
   "metadata": {},
   "outputs": [
    {
     "data": {
      "text/plain": [
       "38"
      ]
     },
     "execution_count": 52,
     "metadata": {},
     "output_type": "execute_result"
    }
   ],
   "source": [
    "len('Leandro Roberto Parmigiani We love you')"
   ]
  },
  {
   "cell_type": "markdown",
   "metadata": {},
   "source": [
    "# Test Modules"
   ]
  },
  {
   "cell_type": "code",
   "execution_count": 2,
   "metadata": {},
   "outputs": [
    {
     "name": "stderr",
     "output_type": "stream",
     "text": [
      "d:\\signup\\upwork\\footbal\\venv\\lib\\site-packages\\tqdm\\auto.py:21: TqdmWarning: IProgress not found. Please update jupyter and ipywidgets. See https://ipywidgets.readthedocs.io/en/stable/user_install.html\n",
      "  from .autonotebook import tqdm as notebook_tqdm\n"
     ]
    }
   ],
   "source": [
    "import google.generativeai as genai\n",
    "\n",
    "from dotenv import load_dotenv\n",
    "load_dotenv() # load all environment variables from .env\n",
    "import os\n",
    "\n",
    "import mysql.connector\n",
    "import ast\n",
    "\n",
    "genai.configure(api_key=os.environ['GEMINI_API_KEY'])"
   ]
  },
  {
   "cell_type": "code",
   "execution_count": 3,
   "metadata": {},
   "outputs": [],
   "source": [
    "#### Save Info to Database #####\n",
    "db = mysql.connector.connect(\n",
    "    host=\"localhost\",\n",
    "    user=\"root\",\n",
    "    password=\"root\"\n",
    ")\n",
    "\n",
    "cursor = db.cursor()"
   ]
  },
  {
   "cell_type": "code",
   "execution_count": 15,
   "metadata": {},
   "outputs": [],
   "source": [
    "cursor.execute('DROP DATABASE football')"
   ]
  },
  {
   "cell_type": "code",
   "execution_count": 16,
   "metadata": {},
   "outputs": [],
   "source": [
    "from footballdb import extract_football_to_db\n",
    "\n",
    "path = 'D:/signup/upwork/footbal/football_docs'\n",
    "extract_football_to_db(path=path, db_user='root', db_password='root')\n"
   ]
  }
 ],
 "metadata": {
  "kernelspec": {
   "display_name": "Python 3",
   "language": "python",
   "name": "python3"
  },
  "language_info": {
   "codemirror_mode": {
    "name": "ipython",
    "version": 3
   },
   "file_extension": ".py",
   "mimetype": "text/x-python",
   "name": "python",
   "nbconvert_exporter": "python",
   "pygments_lexer": "ipython3",
   "version": "3.10.0"
  }
 },
 "nbformat": 4,
 "nbformat_minor": 2
}
